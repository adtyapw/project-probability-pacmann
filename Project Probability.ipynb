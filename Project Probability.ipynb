{
 "cells": [
  {
   "cell_type": "markdown",
   "id": "d77c1853",
   "metadata": {
    "id": "d77c1853"
   },
   "source": [
    "---\n",
    "# Project Probability\n",
    "---"
   ]
  },
  {
   "cell_type": "code",
   "execution_count": 1,
   "id": "7b1d5f85",
   "metadata": {
    "id": "7b1d5f85"
   },
   "outputs": [],
   "source": [
    "import numpy as np\n",
    "import pandas as pd\n",
    "import matplotlib.pyplot as plt\n",
    "from scipy import stats\n",
    "import seaborn as sns"
   ]
  },
  {
   "cell_type": "code",
   "execution_count": 2,
   "id": "e62599ce",
   "metadata": {
    "colab": {
     "base_uri": "https://localhost:8080/",
     "height": 424
    },
    "id": "e62599ce",
    "outputId": "85a52ddc-2b08-4fd1-8838-7e8af3062386"
   },
   "outputs": [
    {
     "data": {
      "text/html": [
       "<div>\n",
       "<style scoped>\n",
       "    .dataframe tbody tr th:only-of-type {\n",
       "        vertical-align: middle;\n",
       "    }\n",
       "\n",
       "    .dataframe tbody tr th {\n",
       "        vertical-align: top;\n",
       "    }\n",
       "\n",
       "    .dataframe thead th {\n",
       "        text-align: right;\n",
       "    }\n",
       "</style>\n",
       "<table border=\"1\" class=\"dataframe\">\n",
       "  <thead>\n",
       "    <tr style=\"text-align: right;\">\n",
       "      <th></th>\n",
       "      <th>age</th>\n",
       "      <th>sex</th>\n",
       "      <th>bmi</th>\n",
       "      <th>children</th>\n",
       "      <th>smoker</th>\n",
       "      <th>region</th>\n",
       "      <th>charges</th>\n",
       "    </tr>\n",
       "  </thead>\n",
       "  <tbody>\n",
       "    <tr>\n",
       "      <th>0</th>\n",
       "      <td>19</td>\n",
       "      <td>female</td>\n",
       "      <td>27.900</td>\n",
       "      <td>0</td>\n",
       "      <td>yes</td>\n",
       "      <td>southwest</td>\n",
       "      <td>16884.92400</td>\n",
       "    </tr>\n",
       "    <tr>\n",
       "      <th>1</th>\n",
       "      <td>18</td>\n",
       "      <td>male</td>\n",
       "      <td>33.770</td>\n",
       "      <td>1</td>\n",
       "      <td>no</td>\n",
       "      <td>southeast</td>\n",
       "      <td>1725.55230</td>\n",
       "    </tr>\n",
       "    <tr>\n",
       "      <th>2</th>\n",
       "      <td>28</td>\n",
       "      <td>male</td>\n",
       "      <td>33.000</td>\n",
       "      <td>3</td>\n",
       "      <td>no</td>\n",
       "      <td>southeast</td>\n",
       "      <td>4449.46200</td>\n",
       "    </tr>\n",
       "    <tr>\n",
       "      <th>3</th>\n",
       "      <td>33</td>\n",
       "      <td>male</td>\n",
       "      <td>22.705</td>\n",
       "      <td>0</td>\n",
       "      <td>no</td>\n",
       "      <td>northwest</td>\n",
       "      <td>21984.47061</td>\n",
       "    </tr>\n",
       "    <tr>\n",
       "      <th>4</th>\n",
       "      <td>32</td>\n",
       "      <td>male</td>\n",
       "      <td>28.880</td>\n",
       "      <td>0</td>\n",
       "      <td>no</td>\n",
       "      <td>northwest</td>\n",
       "      <td>3866.85520</td>\n",
       "    </tr>\n",
       "    <tr>\n",
       "      <th>...</th>\n",
       "      <td>...</td>\n",
       "      <td>...</td>\n",
       "      <td>...</td>\n",
       "      <td>...</td>\n",
       "      <td>...</td>\n",
       "      <td>...</td>\n",
       "      <td>...</td>\n",
       "    </tr>\n",
       "    <tr>\n",
       "      <th>1333</th>\n",
       "      <td>50</td>\n",
       "      <td>male</td>\n",
       "      <td>30.970</td>\n",
       "      <td>3</td>\n",
       "      <td>no</td>\n",
       "      <td>northwest</td>\n",
       "      <td>10600.54830</td>\n",
       "    </tr>\n",
       "    <tr>\n",
       "      <th>1334</th>\n",
       "      <td>18</td>\n",
       "      <td>female</td>\n",
       "      <td>31.920</td>\n",
       "      <td>0</td>\n",
       "      <td>no</td>\n",
       "      <td>northeast</td>\n",
       "      <td>2205.98080</td>\n",
       "    </tr>\n",
       "    <tr>\n",
       "      <th>1335</th>\n",
       "      <td>18</td>\n",
       "      <td>female</td>\n",
       "      <td>36.850</td>\n",
       "      <td>0</td>\n",
       "      <td>no</td>\n",
       "      <td>southeast</td>\n",
       "      <td>1629.83350</td>\n",
       "    </tr>\n",
       "    <tr>\n",
       "      <th>1336</th>\n",
       "      <td>21</td>\n",
       "      <td>female</td>\n",
       "      <td>25.800</td>\n",
       "      <td>0</td>\n",
       "      <td>no</td>\n",
       "      <td>southwest</td>\n",
       "      <td>2007.94500</td>\n",
       "    </tr>\n",
       "    <tr>\n",
       "      <th>1337</th>\n",
       "      <td>61</td>\n",
       "      <td>female</td>\n",
       "      <td>29.070</td>\n",
       "      <td>0</td>\n",
       "      <td>yes</td>\n",
       "      <td>northwest</td>\n",
       "      <td>29141.36030</td>\n",
       "    </tr>\n",
       "  </tbody>\n",
       "</table>\n",
       "<p>1338 rows × 7 columns</p>\n",
       "</div>"
      ],
      "text/plain": [
       "      age     sex     bmi  children smoker     region      charges\n",
       "0      19  female  27.900         0    yes  southwest  16884.92400\n",
       "1      18    male  33.770         1     no  southeast   1725.55230\n",
       "2      28    male  33.000         3     no  southeast   4449.46200\n",
       "3      33    male  22.705         0     no  northwest  21984.47061\n",
       "4      32    male  28.880         0     no  northwest   3866.85520\n",
       "...   ...     ...     ...       ...    ...        ...          ...\n",
       "1333   50    male  30.970         3     no  northwest  10600.54830\n",
       "1334   18  female  31.920         0     no  northeast   2205.98080\n",
       "1335   18  female  36.850         0     no  southeast   1629.83350\n",
       "1336   21  female  25.800         0     no  southwest   2007.94500\n",
       "1337   61  female  29.070         0    yes  northwest  29141.36030\n",
       "\n",
       "[1338 rows x 7 columns]"
      ]
     },
     "execution_count": 2,
     "metadata": {},
     "output_type": "execute_result"
    }
   ],
   "source": [
    "data = pd.read_csv(\"insurance.csv\")\n",
    "\n",
    "data"
   ]
  },
  {
   "cell_type": "markdown",
   "id": "7199060c",
   "metadata": {
    "id": "7199060c"
   },
   "source": [
    "---\n",
    "## Langkah 1 - Analisa Descriptive Statistic"
   ]
  },
  {
   "cell_type": "markdown",
   "id": "402dd82f",
   "metadata": {
    "id": "402dd82f"
   },
   "source": [
    "### 1. Berapa rata rata umur pada data tersebut?"
   ]
  },
  {
   "cell_type": "code",
   "execution_count": 36,
   "id": "1d053f7c",
   "metadata": {
    "colab": {
     "base_uri": "https://localhost:8080/"
    },
    "id": "1d053f7c",
    "outputId": "d6ea6a71-7c12-460f-8a76-7c08c9cc298e"
   },
   "outputs": [
    {
     "name": "stdout",
     "output_type": "stream",
     "text": [
      "rata-rata umur pengguna insurance yaitu :39.20702541106129\n"
     ]
    }
   ],
   "source": [
    "mean_age = data[\"age\"].mean()\n",
    "print(f\"rata-rata umur pengguna insurance yaitu :{mean_age}\")"
   ]
  },
  {
   "cell_type": "markdown",
   "id": "b4ba327a",
   "metadata": {
    "id": "b4ba327a"
   },
   "source": [
    "### 2. Berapa rata rata nilai BMI dari yang merokok?"
   ]
  },
  {
   "cell_type": "code",
   "execution_count": 4,
   "id": "48db89df",
   "metadata": {
    "colab": {
     "base_uri": "https://localhost:8080/"
    },
    "id": "48db89df",
    "outputId": "37d55953-e142-4201-fb2e-ba56d8f0703b"
   },
   "outputs": [
    {
     "name": "stdout",
     "output_type": "stream",
     "text": [
      "rata-rata bmi perokok yaitu :30.708448905109503\n"
     ]
    }
   ],
   "source": [
    "mean_bmi_perokok = data[(data['smoker'] == 'yes')]['bmi'].mean()\n",
    "print(f\"rata-rata bmi perokok yaitu :{mean_bmi_perokok}\")"
   ]
  },
  {
   "cell_type": "markdown",
   "id": "6afccef5",
   "metadata": {
    "id": "6afccef5"
   },
   "source": [
    "### 3. Apakah rata rata umur perempuan dan laki-laki yang merokok sama?"
   ]
  },
  {
   "cell_type": "code",
   "execution_count": 35,
   "id": "798a335a",
   "metadata": {
    "colab": {
     "base_uri": "https://localhost:8080/"
    },
    "id": "798a335a",
    "outputId": "dcdf81ec-0827-4c42-892d-e42745598ded"
   },
   "outputs": [
    {
     "name": "stdout",
     "output_type": "stream",
     "text": [
      "rata-rata umur pria perokok yaitu :38.44654088050314\n",
      "rata-rata umur wanita perokok yaitu :38.608695652173914\n",
      "Rata-rata umur pria perokok lebih kecil dari wanita perokok\n"
     ]
    }
   ],
   "source": [
    "mean_male_perokok = data[(data['smoker'] == 'yes') & (data['sex'] == 'male')]['age'].mean()\n",
    "mean_female_perokok = data[(data['smoker'] == 'yes') & (data['sex'] == 'female')]['age'].mean()\n",
    "\n",
    "print(f\"rata-rata umur pria perokok yaitu :{mean_male_perokok}\")\n",
    "print(f\"rata-rata umur wanita perokok yaitu :{mean_female_perokok}\")\n",
    "\n",
    "if mean_male_perokok < mean_female_perokok:\n",
    "    print(\"Rata-rata umur pria perokok lebih kecil dari wanita perokok\")\n",
    "elif mean_male_perokok > mean_female_perokok:\n",
    "    print(\"Rata-rata umur pria perokok lebih besar dari wanita perokok\")\n",
    "else:\n",
    "    print(\"Rata-rata umur pria perokok sama dengan wanita perokok\")"
   ]
  },
  {
   "cell_type": "markdown",
   "id": "ee5329bf",
   "metadata": {
    "id": "ee5329bf"
   },
   "source": [
    "### 4. Mana yang lebih tinggi, rata rata tagihan kesehatan perokok atau non merokok?"
   ]
  },
  {
   "cell_type": "code",
   "execution_count": 6,
   "id": "3104a859",
   "metadata": {
    "colab": {
     "base_uri": "https://localhost:8080/"
    },
    "id": "3104a859",
    "outputId": "ac9b7224-383b-4505-9460-2c17fcd7284d"
   },
   "outputs": [
    {
     "name": "stdout",
     "output_type": "stream",
     "text": [
      "rata-rata tagihan perokok yaitu :32050.23183153285\n",
      "rata-rata tagihan non-perokok yaitu :8434.268297856199\n",
      "Rata-rata tagihan perokok lebih besar dari non-perokok\n"
     ]
    }
   ],
   "source": [
    "mean_charges_perokok = data[(data['smoker'] == 'yes')]['charges'].mean()\n",
    "mean_charges_nonperokok = data[(data['smoker'] == 'no')]['charges'].mean()\n",
    "\n",
    "print(f\"rata-rata tagihan perokok yaitu :{mean_charges_perokok}\")\n",
    "print(f\"rata-rata tagihan non-perokok yaitu :{mean_charges_nonperokok}\")\n",
    "\n",
    "if mean_charges_perokok < mean_charges_nonperokok:\n",
    "    print(\"Rata-rata tagihan perokok lebih kecil dari non-perokok\")\n",
    "elif mean_charges_perokok > mean_charges_nonperokok:\n",
    "    print(\"Rata-rata tagihan perokok lebih besar dari non-perokok\")\n",
    "else:\n",
    "    print(\"Rata-rata tagihan perokok sama dengan non-perokok\")"
   ]
  },
  {
   "cell_type": "markdown",
   "id": "8a0f8736",
   "metadata": {
    "id": "8a0f8736"
   },
   "source": [
    "### 5. Mana yang lebih tinggi, rata rata tagihan kesehatan perokok yang BMI nya diatas 25 atau non perokok yang BMI nya diatas 25?"
   ]
  },
  {
   "cell_type": "code",
   "execution_count": 7,
   "id": "c492730f",
   "metadata": {
    "colab": {
     "base_uri": "https://localhost:8080/"
    },
    "id": "c492730f",
    "outputId": "395b9caa-3630-41ee-84dc-0fc5eb5af1ee"
   },
   "outputs": [
    {
     "name": "stdout",
     "output_type": "stream",
     "text": [
      "rata-rata tagihan perokok bmi >25 yaitu :35116.90965694065\n",
      "rata-rata tagihan non-perokok bmi >25 yaitu :8629.589609712148\n",
      "Rata-rata tagihan non-perokok bmi >25 lebih besar dari non-perokok bmi >25\n"
     ]
    }
   ],
   "source": [
    "mean_charges_bmi_perokok = data[(data['smoker'] == 'yes') & (data['bmi'] > 25)]['charges'].mean()\n",
    "mean_charges_bmi_nonperokok = data[(data['smoker'] == 'no') & (data['bmi'] > 25)]['charges'].mean()\n",
    "\n",
    "print(f\"rata-rata tagihan perokok bmi >25 yaitu :{mean_charges_bmi_perokok}\")\n",
    "print(f\"rata-rata tagihan non-perokok bmi >25 yaitu :{mean_charges_bmi_nonperokok}\")\n",
    "\n",
    "if mean_charges_bmi_perokok < mean_charges_bmi_nonperokok:\n",
    "    print(\"Rata-rata tagihan perokok bmi >25 lebih kecil dari non-perokok bmi >25\")\n",
    "elif mean_charges_bmi_perokok > mean_charges_bmi_nonperokok:\n",
    "    print(\"Rata-rata tagihan non-perokok bmi >25 lebih besar dari non-perokok bmi >25\")\n",
    "else:\n",
    "    print(\"Rata-rata tagihan non-perokok bmi >25 sama dengan non-perokok bmi >25\")"
   ]
  },
  {
   "cell_type": "markdown",
   "id": "e5549798",
   "metadata": {
    "id": "e5549798"
   },
   "source": [
    "---\n",
    "## Langkah 2 - Analisa Variabel Kategorik (PMF)"
   ]
  },
  {
   "cell_type": "markdown",
   "id": "79d438b6",
   "metadata": {
    "id": "79d438b6"
   },
   "source": [
    "### 1. Gender mana yang memiliki tagihan paling tinggi?"
   ]
  },
  {
   "cell_type": "code",
   "execution_count": 8,
   "id": "bea3b6ca",
   "metadata": {
    "colab": {
     "base_uri": "https://localhost:8080/"
    },
    "id": "bea3b6ca",
    "outputId": "3df04971-f7a5-4f59-c79a-1cf3bbc33a0a"
   },
   "outputs": [
    {
     "name": "stdout",
     "output_type": "stream",
     "text": [
      "Tagihan pria yaitu :13956.751177721886\n",
      "Tagihan wanita yaitu :12569.57884383534\n",
      "Rata-rata tagihan pria lebih besar dari wanita\n"
     ]
    }
   ],
   "source": [
    "mean_charges_male = data[(data['sex'] == 'male')]['charges'].mean()\n",
    "mean_charges_female = data[(data['sex'] == 'female')]['charges'].mean()\n",
    "\n",
    "print(f\"Tagihan pria yaitu :{mean_charges_male}\")\n",
    "print(f\"Tagihan wanita yaitu :{mean_charges_female}\")\n",
    "\n",
    "if mean_charges_male < mean_charges_female:\n",
    "    print(\"Rata-rata tagihan pria lebih kecil dari wanita\")\n",
    "elif mean_charges_male > mean_charges_female:\n",
    "    print(\"Rata-rata tagihan pria lebih besar dari wanita\")\n",
    "else:\n",
    "    print(\"Rata-rata tagihan pria sama dengan wanita\")"
   ]
  },
  {
   "cell_type": "code",
   "execution_count": 9,
   "id": "36359c44",
   "metadata": {
    "colab": {
     "base_uri": "https://localhost:8080/",
     "height": 386
    },
    "id": "36359c44",
    "outputId": "3fb0845a-3a8b-49ae-c400-4bb76465c238"
   },
   "outputs": [
    {
     "data": {
      "text/plain": [
       "<seaborn.axisgrid.FacetGrid at 0x1fe3d602fd0>"
      ]
     },
     "execution_count": 9,
     "metadata": {},
     "output_type": "execute_result"
    },
    {
     "data": {
      "image/png": "[encoded data removed]",
      "text/plain": [
       "<Figure size 360x360 with 1 Axes>"
      ]
     },
     "metadata": {
      "needs_background": "light"
     },
     "output_type": "display_data"
    }
   ],
   "source": [
    "sns.catplot(data=data, x=\"sex\", y=\"charges\", kind=\"bar\")"
   ]
  },
  {
   "cell_type": "markdown",
   "id": "2a715238",
   "metadata": {
    "id": "2a715238"
   },
   "source": [
    "### 2. Mana yang lebih tinggi proporsi perokok atau non perokok?"
   ]
  },
  {
   "cell_type": "code",
   "execution_count": 10,
   "id": "ff812861",
   "metadata": {
    "colab": {
     "base_uri": "https://localhost:8080/"
    },
    "id": "ff812861",
    "outputId": "f42fe1ee-02f4-4de2-9b98-c2c2f15e8860"
   },
   "outputs": [
    {
     "name": "stdout",
     "output_type": "stream",
     "text": [
      "Jumlah proporsi perokok dan non-perokok :no     1064\n",
      "yes     274\n",
      "Name: smoker, dtype: int64\n"
     ]
    }
   ],
   "source": [
    "count_rokok = (data['smoker']).value_counts()\n",
    "print(f\"Jumlah proporsi perokok dan non-perokok :{count_rokok}\")"
   ]
  },
  {
   "cell_type": "code",
   "execution_count": 11,
   "id": "5fc15233",
   "metadata": {
    "colab": {
     "base_uri": "https://localhost:8080/",
     "height": 296
    },
    "id": "5fc15233",
    "outputId": "d87ddd0d-bdf7-404b-a4a7-9af7d5343506"
   },
   "outputs": [
    {
     "data": {
      "text/plain": [
       "<AxesSubplot:xlabel='smoker', ylabel='count'>"
      ]
     },
     "execution_count": 11,
     "metadata": {},
     "output_type": "execute_result"
    },
    {
     "data": {
      "image/png": "[encoded data removed]",
      "text/plain": [
       "<Figure size 432x288 with 1 Axes>"
      ]
     },
     "metadata": {
      "needs_background": "light"
     },
     "output_type": "display_data"
    }
   ],
   "source": [
    "sns.countplot(x=data['smoker'])"
   ]
  },
  {
   "cell_type": "markdown",
   "id": "97a0b443",
   "metadata": {
    "id": "97a0b443"
   },
   "source": [
    "### 3. Apakah setiap region memiliki proporsi data banyak orang yang sama?"
   ]
  },
  {
   "cell_type": "code",
   "execution_count": 12,
   "id": "3fdd6c17",
   "metadata": {
    "colab": {
     "base_uri": "https://localhost:8080/"
    },
    "id": "3fdd6c17",
    "outputId": "f6c3e847-7fdc-4bdd-f786-aa54f6624bba"
   },
   "outputs": [
    {
     "name": "stdout",
     "output_type": "stream",
     "text": [
      "Jumlah pengguna tiap region :southeast    364\n",
      "southwest    325\n",
      "northwest    325\n",
      "northeast    324\n",
      "Name: region, dtype: int64\n"
     ]
    }
   ],
   "source": [
    "proporsi_region = (data['region']).value_counts()\n",
    "print(f\"Jumlah pengguna tiap region :{proporsi_region}\")"
   ]
  },
  {
   "cell_type": "code",
   "execution_count": 13,
   "id": "94214d5a",
   "metadata": {
    "colab": {
     "base_uri": "https://localhost:8080/",
     "height": 296
    },
    "id": "94214d5a",
    "outputId": "6d009eae-7e4a-4d3e-cfd3-5f834e9f5a0a"
   },
   "outputs": [
    {
     "data": {
      "text/plain": [
       "<AxesSubplot:xlabel='region', ylabel='count'>"
      ]
     },
     "execution_count": 13,
     "metadata": {},
     "output_type": "execute_result"
    },
    {
     "data": {
      "image/png": "[encoded data removed]",
      "text/plain": [
       "<Figure size 432x288 with 1 Axes>"
      ]
     },
     "metadata": {
      "needs_background": "light"
     },
     "output_type": "display_data"
    }
   ],
   "source": [
    "sns.countplot(x=data['region'])"
   ]
  },
  {
   "cell_type": "markdown",
   "id": "9ea66a96",
   "metadata": {
    "id": "9ea66a96"
   },
   "source": [
    "### 4. Distribusi peluang tagihan di tiap-tiap region"
   ]
  },
  {
   "cell_type": "code",
   "execution_count": 14,
   "id": "97rP3NcFflcH",
   "metadata": {
    "colab": {
     "base_uri": "https://localhost:8080/",
     "height": 334
    },
    "id": "97rP3NcFflcH",
    "outputId": "3e93c385-5733-4f60-cfe6-3282c75ddf73"
   },
   "outputs": [
    {
     "name": "stderr",
     "output_type": "stream",
     "text": [
      "C:\\Users\\adity\\AppData\\Local\\Temp\\ipykernel_19012\\562132947.py:22: UserWarning: Matplotlib is currently using module://matplotlib_inline.backend_inline, which is a non-GUI backend, so cannot show the figure.\n",
      "  fig.show()\n"
     ]
    },
    {
     "data": {
      "image/png": "[encoded data removed]",
      "text/plain": [
       "<Figure size 1440x360 with 4 Axes>"
      ]
     },
     "metadata": {
      "needs_background": "light"
     },
     "output_type": "display_data"
    }
   ],
   "source": [
    "a = data.loc[data['region'] == \"southwest\"]\n",
    "b = data.loc[data['region'] == \"southeast\"]\n",
    "c = data.loc[data['region'] == \"northwest\"]\n",
    "d = data.loc[data['region'] == \"northeast\"]\n",
    "fig=plt.figure (figsize=(20,5))\n",
    "axes1=fig.add_subplot(1,4,1)\n",
    "axes1.hist(a['charges'],bins=30,density=True, edgecolor=\"black\" )\n",
    "axes1.set_title(\"Tagihan Untuk South West\")\n",
    "axes1.set_ylabel(\"Return\")\n",
    "axes2=fig.add_subplot(1,4,2)\n",
    "axes2.hist(b['charges'],bins=30,density=True, edgecolor=\"black\" )\n",
    "axes2.set_title(\"Tagihan Untuk South East\")\n",
    "axes2.set_ylabel(\"Return\")\n",
    "axes3=fig.add_subplot(1,4,3)\n",
    "axes3.hist(c['charges'],bins=30,density=True, edgecolor=\"black\" )\n",
    "axes3.set_title(\"Tagihan Untuk North West\")\n",
    "axes3.set_ylabel(\"Return\")\n",
    "axes4=fig.add_subplot(1,4,4)\n",
    "axes4.hist(d['charges'],bins=30,density=True, edgecolor=\"black\" )\n",
    "axes4.set_title(\"Tagihan Untuk North East\")\n",
    "axes4.set_ylabel(\"Return\")\n",
    "fig.show()"
   ]
  },
  {
   "cell_type": "markdown",
   "id": "02d9c83b",
   "metadata": {
    "id": "02d9c83b"
   },
   "source": [
    "### 5. Berapa peluang seseorang tersebut adalah laki-laki diketahui dia adalah perokok?"
   ]
  },
  {
   "cell_type": "code",
   "execution_count": 15,
   "id": "d7580bbf",
   "metadata": {
    "colab": {
     "base_uri": "https://localhost:8080/"
    },
    "id": "d7580bbf",
    "outputId": "d769dfff-5a81-4c3d-edf2-d021f5be9754"
   },
   "outputs": [
    {
     "name": "stdout",
     "output_type": "stream",
     "text": [
      "Peluang Seseorang Laki Laki dan Perokok adalah :  0.11883408071748879\n"
     ]
    }
   ],
   "source": [
    "# P(Male & Smoke) = Jumlah(Male & Smoke)/Jumlah data\n",
    "Jumlah_Male_dan_Merokok = data.loc[(data['sex'] == \"male\") & (data['smoker'] == 'yes')]\n",
    "Peluang = len(Jumlah_Male_dan_Merokok)/len(data)\n",
    "print(\"Peluang Seseorang Laki Laki dan Perokok adalah : \", Peluang)"
   ]
  },
  {
   "cell_type": "markdown",
   "id": "8dc4d550",
   "metadata": {
    "id": "8dc4d550"
   },
   "source": [
    "---\n",
    "## Langkah 3 - Analisa Variabel Kontinu"
   ]
  },
  {
   "cell_type": "markdown",
   "id": "10827106",
   "metadata": {
    "id": "10827106"
   },
   "source": [
    "1. Mana yang lebih mungkin terjadi\n",
    "\n",
    "a. Seseorang dengan BMI diatas 25 mendapatkan tagihan kesehatan diatas 16.7k,\n",
    "\n",
    "atau\n",
    "\n",
    "b. Seseorang dengan BMI dibawah 25 mendapatkan tagihan kesehatan diatas 16.7k"
   ]
  },
  {
   "cell_type": "code",
   "execution_count": 16,
   "id": "25043e79",
   "metadata": {
    "colab": {
     "base_uri": "https://localhost:8080/"
    },
    "id": "25043e79",
    "outputId": "c7376971-6f42-4358-f11a-1f8bac23ad1c"
   },
   "outputs": [
    {
     "name": "stdout",
     "output_type": "stream",
     "text": [
      "Peluang Seseorang BMI di atas 25 mendapat Tagihan kesehatan diatas 16.7k adalah :  0.8473053892215568\n",
      "Peluang Seseorang BMI di bawah 25 mendapat Tagihan kesehatan diatas 16.7k adalah :  0.1526946107784431\n",
      "Yang lebih mungkin adalah BMI diatas 25 mendapat tagihan diatas 16.7k\n"
     ]
    }
   ],
   "source": [
    "# P(BMI>25|Charges>16.7k) = P(BMI>25 & Charges>16.7k)/P(Charges>16.7k)\n",
    "# P(BMI<25|Charges>16.7k) = P(BMI>25 & Charges>16.7k)/P(Charges>16.7k)\n",
    "BMI1 = data.loc[(data['bmi'] > 25) & (data['charges'] >16700)]\n",
    "BMI2 = data.loc[(data['bmi'] < 25) & (data['charges'] >16700)]\n",
    "Tagihan = data.loc[data['charges'] >16700]\n",
    "Peluang_BMI1 = (len(BMI1)/len(data))/(len(Tagihan)/len(data))\n",
    "Peluang_BMI2 = (len(BMI2)/len(data))/(len(Tagihan)/len(data))\n",
    "print(\"Peluang Seseorang BMI di atas 25 mendapat Tagihan kesehatan diatas 16.7k adalah : \", Peluang_BMI1)\n",
    "print(\"Peluang Seseorang BMI di bawah 25 mendapat Tagihan kesehatan diatas 16.7k adalah : \", Peluang_BMI2)\n",
    "if Peluang_BMI1 > Peluang_BMI2:\n",
    "  print(\"Yang lebih mungkin adalah BMI diatas 25 mendapat tagihan diatas 16.7k\")\n",
    "else:\n",
    "  print(\"Yang lebih mungkin adalah BMI dibawah 25 mendapat tagihan diatas 16.7k\")"
   ]
  },
  {
   "cell_type": "markdown",
   "id": "a63e87e2",
   "metadata": {
    "id": "a63e87e2"
   },
   "source": [
    "2. Mana yang lebih mungkin terjadi\n",
    "\n",
    "a. Seseorang perokok dengan BMI diatas 25 mendapatkan tagihan kesehatan\n",
    "diatas 16.7k, \n",
    "\n",
    "atau\n",
    "\n",
    "b. Seseorang non perokok dengan BMI diatas 25 mendapatkan tagihan kesehatan\n",
    "diatas 16.7k"
   ]
  },
  {
   "cell_type": "code",
   "execution_count": 17,
   "id": "80cb7bff",
   "metadata": {
    "colab": {
     "base_uri": "https://localhost:8080/"
    },
    "id": "80cb7bff",
    "outputId": "3542a3a5-165d-4eee-930f-b18f1334c6f3"
   },
   "outputs": [
    {
     "name": "stdout",
     "output_type": "stream",
     "text": [
      "Peluang Seseorang Perokok dengan BMI di atas 25 dan Tagihan kesehatan diatas 16.7k adalah :  0.6437125748502994\n",
      "Peluang Seseorang Non Perokok dengan BMI di atas 25 dan Tagihan kesehatan diatas 16.7k adalah :  0.20359281437125748\n",
      "Yang lebih mungkin adalah Perokok dengan BMI diatas 25 mendapatkan tagihan diatas 16.7k\n"
     ]
    }
   ],
   "source": [
    "# P((Smoker & BMI>25)|Charges>16.7k) = P((Smoker & BMI>25) & Charges>16.7k)/P(Charges>16.7k)\n",
    "# P((Non_Smoker & BMI<25)|Charges>16.7k) = P((Smoker & BMI>25) & Charges>16.7k)/P(Charges>16.7k)\n",
    "BMI1 = data.loc[(data['smoker'] == 'yes') & (data['bmi'] > 25) & (data['charges'] > 16700)]\n",
    "BMI2 = data.loc[(data['smoker'] == 'no') & (data['bmi'] > 25) & (data['charges'] > 16700)]\n",
    "Tagihan = data.loc[data['charges'] >16700]\n",
    "Peluang_BMI1 = (len(BMI1)/len(data))/(len(Tagihan)/len(data))\n",
    "Peluang_BMI2 = (len(BMI2)/len(data))/(len(Tagihan)/len(data))\n",
    "print(\"Peluang Seseorang Perokok dengan BMI di atas 25 dan Tagihan kesehatan diatas 16.7k adalah : \", Peluang_BMI1)\n",
    "print(\"Peluang Seseorang Non Perokok dengan BMI di atas 25 dan Tagihan kesehatan diatas 16.7k adalah : \", Peluang_BMI2)\n",
    "if Peluang_BMI1 > Peluang_BMI2:\n",
    "  print(\"Yang lebih mungkin adalah Perokok dengan BMI diatas 25 mendapatkan tagihan diatas 16.7k\")\n",
    "else:\n",
    "  print(\"Yang lebih mungkin adalah Non Perokok dengan BMI diatas 25 mendapatkan tagihan diatas 16.7k\")"
   ]
  },
  {
   "cell_type": "markdown",
   "id": "e84c134f",
   "metadata": {
    "id": "e84c134f"
   },
   "source": [
    "---\n",
    "## Langkah 4 - Analisa Korelasi Variabel"
   ]
  },
  {
   "cell_type": "markdown",
   "id": "c13c984b",
   "metadata": {
    "id": "c13c984b"
   },
   "source": [
    "Setelah menjawab kondisi-kondisi yang lebih mungkin memiliki tagihan kesehatan yang tinggi\n",
    "dari langkah sebelumnya. Kita juga dapat mencari keterhubungan antara kondisi-kondisi\n",
    "tersebut dengan tagihan kesehatan. Analisa korelasi akan diperlukan disini. Anda bisa memilih\n",
    "mengecek korelasi tagihan kesehatan minimal dengan 2 variabel lainnya."
   ]
  },
  {
   "cell_type": "code",
   "execution_count": 42,
   "id": "7171d399",
   "metadata": {
    "colab": {
     "base_uri": "https://localhost:8080/",
     "height": 175
    },
    "id": "7171d399",
    "outputId": "f54ec02c-9afd-4a87-9d4f-bc6c2ec017bc"
   },
   "outputs": [
    {
     "data": {
      "text/html": [
       "<style type=\"text/css\">\n",
       "#T_04fc8_row0_col0, #T_04fc8_row1_col1, #T_04fc8_row2_col2, #T_04fc8_row3_col3 {\n",
       "  background-color: #b40426;\n",
       "  color: #f1f1f1;\n",
       "}\n",
       "#T_04fc8_row0_col1, #T_04fc8_row1_col0, #T_04fc8_row1_col2, #T_04fc8_row1_col3 {\n",
       "  background-color: #3b4cc0;\n",
       "  color: #f1f1f1;\n",
       "}\n",
       "#T_04fc8_row0_col2 {\n",
       "  background-color: #4f69d9;\n",
       "  color: #f1f1f1;\n",
       "}\n",
       "#T_04fc8_row0_col3 {\n",
       "  background-color: #6687ed;\n",
       "  color: #f1f1f1;\n",
       "}\n",
       "#T_04fc8_row2_col0 {\n",
       "  background-color: #5977e3;\n",
       "  color: #f1f1f1;\n",
       "}\n",
       "#T_04fc8_row2_col1 {\n",
       "  background-color: #4358cb;\n",
       "  color: #f1f1f1;\n",
       "}\n",
       "#T_04fc8_row2_col3 {\n",
       "  background-color: #8caffe;\n",
       "  color: #000000;\n",
       "}\n",
       "#T_04fc8_row3_col0 {\n",
       "  background-color: #779af7;\n",
       "  color: #f1f1f1;\n",
       "}\n",
       "#T_04fc8_row3_col1 {\n",
       "  background-color: #4b64d5;\n",
       "  color: #f1f1f1;\n",
       "}\n",
       "#T_04fc8_row3_col2 {\n",
       "  background-color: #93b5fe;\n",
       "  color: #000000;\n",
       "}\n",
       "</style>\n",
       "<table id=\"T_04fc8\">\n",
       "  <thead>\n",
       "    <tr>\n",
       "      <th class=\"blank level0\" >&nbsp;</th>\n",
       "      <th id=\"T_04fc8_level0_col0\" class=\"col_heading level0 col0\" >bmi</th>\n",
       "      <th id=\"T_04fc8_level0_col1\" class=\"col_heading level0 col1\" >children</th>\n",
       "      <th id=\"T_04fc8_level0_col2\" class=\"col_heading level0 col2\" >age</th>\n",
       "      <th id=\"T_04fc8_level0_col3\" class=\"col_heading level0 col3\" >charges</th>\n",
       "    </tr>\n",
       "  </thead>\n",
       "  <tbody>\n",
       "    <tr>\n",
       "      <th id=\"T_04fc8_level0_row0\" class=\"row_heading level0 row0\" >bmi</th>\n",
       "      <td id=\"T_04fc8_row0_col0\" class=\"data row0 col0\" >1.000000</td>\n",
       "      <td id=\"T_04fc8_row0_col1\" class=\"data row0 col1\" >0.012759</td>\n",
       "      <td id=\"T_04fc8_row0_col2\" class=\"data row0 col2\" >0.109272</td>\n",
       "      <td id=\"T_04fc8_row0_col3\" class=\"data row0 col3\" >0.198341</td>\n",
       "    </tr>\n",
       "    <tr>\n",
       "      <th id=\"T_04fc8_level0_row1\" class=\"row_heading level0 row1\" >children</th>\n",
       "      <td id=\"T_04fc8_row1_col0\" class=\"data row1 col0\" >0.012759</td>\n",
       "      <td id=\"T_04fc8_row1_col1\" class=\"data row1 col1\" >1.000000</td>\n",
       "      <td id=\"T_04fc8_row1_col2\" class=\"data row1 col2\" >0.042469</td>\n",
       "      <td id=\"T_04fc8_row1_col3\" class=\"data row1 col3\" >0.067998</td>\n",
       "    </tr>\n",
       "    <tr>\n",
       "      <th id=\"T_04fc8_level0_row2\" class=\"row_heading level0 row2\" >age</th>\n",
       "      <td id=\"T_04fc8_row2_col0\" class=\"data row2 col0\" >0.109272</td>\n",
       "      <td id=\"T_04fc8_row2_col1\" class=\"data row2 col1\" >0.042469</td>\n",
       "      <td id=\"T_04fc8_row2_col2\" class=\"data row2 col2\" >1.000000</td>\n",
       "      <td id=\"T_04fc8_row2_col3\" class=\"data row2 col3\" >0.299008</td>\n",
       "    </tr>\n",
       "    <tr>\n",
       "      <th id=\"T_04fc8_level0_row3\" class=\"row_heading level0 row3\" >charges</th>\n",
       "      <td id=\"T_04fc8_row3_col0\" class=\"data row3 col0\" >0.198341</td>\n",
       "      <td id=\"T_04fc8_row3_col1\" class=\"data row3 col1\" >0.067998</td>\n",
       "      <td id=\"T_04fc8_row3_col2\" class=\"data row3 col2\" >0.299008</td>\n",
       "      <td id=\"T_04fc8_row3_col3\" class=\"data row3 col3\" >1.000000</td>\n",
       "    </tr>\n",
       "  </tbody>\n",
       "</table>\n"
      ],
      "text/plain": [
       "<pandas.io.formats.style.Styler at 0x1fe40d84df0>"
      ]
     },
     "execution_count": 42,
     "metadata": {},
     "output_type": "execute_result"
    }
   ],
   "source": [
    "corr = data[['bmi', 'children', 'age', 'charges']].corr()\n",
    "corr.style.background_gradient(cmap='coolwarm')"
   ]
  },
  {
   "cell_type": "markdown",
   "id": "rFe6ka0x8BfZ",
   "metadata": {
    "id": "rFe6ka0x8BfZ"
   },
   "source": [
    "Dalam masalah ini kami ingin menganalisa korelasi 3 variabel numerik yaitu ```bmi```, ```children```dan ```age``` terhadap tagihan kesehatan. Didapatkan dari plot matriks korelasi bahwa variabel age memiliki korelasi positif yang cukup tinggi dibanding 2 variabel lainnya yaitu sebesar 0.299, yang dapat kita artikan bahwa umur dari seseorang menjadi salah satu parameter penting yang mempengaruhi besarnya tagihan yang diberikan.\n"
   ]
  },
  {
   "cell_type": "markdown",
   "id": "d9e8e4c9",
   "metadata": {
    "id": "d9e8e4c9"
   },
   "source": [
    "---\n",
    "## Langkah 5 - Pengujian Hipotesis"
   ]
  },
  {
   "cell_type": "markdown",
   "id": "11abddf7",
   "metadata": {
    "id": "11abddf7"
   },
   "source": [
    "### 1. Tagihan kesehatan perokok lebih tinggi daripada tagihan kesehatan non perokok\n"
   ]
  },
  {
   "cell_type": "markdown",
   "id": "1vzEQdliL-xJ",
   "metadata": {
    "id": "1vzEQdliL-xJ"
   },
   "source": [
    "###Null Hypothesis\n",
    "H0 : Tagihan untuk perokok sama dengan Tagihan untuk Non-perokok\n",
    "\n",
    "###Alternatif Hypothesis\n",
    "H1 : Tagihan non-perokok berbeda secara signifikan dari Tagihan perokok\n",
    "\n",
    "Terdapat 3 langka untuk Menjawab pertanyaan ini\n",
    "- Langkah Pertama\\\n",
    "Mengecek asumsi dasar dari hypothesis\n",
    "\n",
    "- Langkah ke dua\\\n",
    "Melakukan uji-t arah kanan\n",
    "\n",
    "- Langkah ke tiga\\\n",
    "Mengecek hasil hypothesis"
   ]
  },
  {
   "cell_type": "code",
   "execution_count": 19,
   "id": "uASD4nlgRp3R",
   "metadata": {
    "id": "uASD4nlgRp3R"
   },
   "outputs": [],
   "source": [
    "#Keputusan\n",
    "def htResult(p_value):\n",
    "    significance_level = 0.05\n",
    "    if p_value <= significance_level: \n",
    "        print('Reject NULL HYPOTHESIS') \n",
    "    else: \n",
    "        print('Fail to Reject NULL HYPOTHESIS') "
   ]
  },
  {
   "cell_type": "code",
   "execution_count": 20,
   "id": "Ac3tOIJTMrIu",
   "metadata": {
    "colab": {
     "base_uri": "https://localhost:8080/",
     "height": 404
    },
    "id": "Ac3tOIJTMrIu",
    "outputId": "0dc9659e-714f-47fd-8809-fa260290009e"
   },
   "outputs": [
    {
     "data": {
      "image/png": "[encoded data removed]",
      "text/plain": [
       "<Figure size 720x432 with 1 Axes>"
      ]
     },
     "metadata": {
      "needs_background": "light"
     },
     "output_type": "display_data"
    }
   ],
   "source": [
    "plt.figure(figsize=(10,6))\n",
    "stats.probplot(data['charges'], plot= plt, dist=\"norm\")\n",
    "plt.title('Q-Q plot for charges')\n",
    "plt.show()"
   ]
  },
  {
   "cell_type": "code",
   "execution_count": 21,
   "id": "_lQQCa51RGlz",
   "metadata": {
    "id": "_lQQCa51RGlz"
   },
   "outputs": [],
   "source": [
    "from scipy.stats import levene\n",
    "smokers = data[data['smoker']=='yes']['charges']\n",
    "non_smokers = data[data['smoker']=='no']['charges']\n",
    "stat,p = levene(smokers,non_smokers)"
   ]
  },
  {
   "cell_type": "code",
   "execution_count": 22,
   "id": "0UXBcF6eRS9n",
   "metadata": {
    "colab": {
     "base_uri": "https://localhost:8080/"
    },
    "id": "0UXBcF6eRS9n",
    "outputId": "d9c35411-94e2-463f-8407-afca7337b183"
   },
   "outputs": [
    {
     "name": "stdout",
     "output_type": "stream",
     "text": [
      "P-value : 1.5593284881803726e-66\n"
     ]
    }
   ],
   "source": [
    "print('P-value :',p)"
   ]
  },
  {
   "cell_type": "code",
   "execution_count": 23,
   "id": "107NgOA2RWDK",
   "metadata": {
    "colab": {
     "base_uri": "https://localhost:8080/"
    },
    "id": "107NgOA2RWDK",
    "outputId": "b346539f-9d67-40b1-e6ae-fee62b4ae560"
   },
   "outputs": [
    {
     "name": "stdout",
     "output_type": "stream",
     "text": [
      "Reject NULL HYPOTHESIS\n"
     ]
    }
   ],
   "source": [
    "htResult(p)"
   ]
  },
  {
   "cell_type": "markdown",
   "id": "2lNQGDRFWfTy",
   "metadata": {
    "id": "2lNQGDRFWfTy"
   },
   "source": [
    "hipotesis nol ditolak, yang berarti varian tidak sama."
   ]
  },
  {
   "cell_type": "code",
   "execution_count": 24,
   "id": "cpvO_rXcRvHg",
   "metadata": {
    "colab": {
     "base_uri": "https://localhost:8080/"
    },
    "id": "cpvO_rXcRvHg",
    "outputId": "47b5f6b7-edb1-4415-fa30-8a892389fe4f"
   },
   "outputs": [
    {
     "name": "stdout",
     "output_type": "stream",
     "text": [
      "P-value : 4.135717921089551e-283\n"
     ]
    }
   ],
   "source": [
    "st,p = stats.ttest_ind(smokers,non_smokers)\n",
    "print('P-value :',(p/2))"
   ]
  },
  {
   "cell_type": "code",
   "execution_count": 25,
   "id": "WPoNsQYnRwt9",
   "metadata": {
    "colab": {
     "base_uri": "https://localhost:8080/"
    },
    "id": "WPoNsQYnRwt9",
    "outputId": "a73c7983-61c7-450e-dc82-1d23aabf2415"
   },
   "outputs": [
    {
     "name": "stdout",
     "output_type": "stream",
     "text": [
      "Reject NULL HYPOTHESIS\n"
     ]
    }
   ],
   "source": [
    "htResult(p/2)"
   ]
  },
  {
   "cell_type": "markdown",
   "id": "qxRb9vSYRy-O",
   "metadata": {
    "id": "qxRb9vSYRy-O"
   },
   "source": [
    "Kita menolak null hypothesis, yang artinya Tagihan untuk perokok lebih tinggi daripada tagihan non-perokok"
   ]
  },
  {
   "cell_type": "markdown",
   "id": "47889b81",
   "metadata": {
    "id": "47889b81"
   },
   "source": [
    "### 2. Proporsi perokok laki laki lebih besar dari perempuan"
   ]
  },
  {
   "cell_type": "markdown",
   "id": "vizSMf0-Sf4Q",
   "metadata": {
    "id": "vizSMf0-Sf4Q"
   },
   "source": [
    "###Chi-Square test\n",
    "Null Hypothesis ( H0 ) - Proporsi perokok laki-laki sama dengan proporsi perokok perempuan.\n",
    "\n",
    "Alternate Hypothesis ( HA ) - Proporsi perokok laki-laki lebih besar daripada perempuan."
   ]
  },
  {
   "cell_type": "markdown",
   "id": "BiALT6nnTURt",
   "metadata": {
    "id": "BiALT6nnTURt"
   },
   "source": [
    "- Langkah Pertama\\\n",
    "chi-square test\n",
    "\n",
    "- Langkah Kedua\\\n",
    "Cek hasil hypothesis"
   ]
  },
  {
   "cell_type": "code",
   "execution_count": 26,
   "id": "2d187b4e",
   "metadata": {
    "id": "2d187b4e"
   },
   "outputs": [],
   "source": [
    "cont = pd.crosstab(data['smoker'],data['sex'])\n",
    "value = np.array([cont.iloc[0][0:2].values,cont.iloc[1][0:2].values])"
   ]
  },
  {
   "cell_type": "code",
   "execution_count": 27,
   "id": "FphZEGtnTrW2",
   "metadata": {
    "colab": {
     "base_uri": "https://localhost:8080/"
    },
    "id": "FphZEGtnTrW2",
    "outputId": "6837c812-2724-4646-ec99-17210cbfad55"
   },
   "outputs": [
    {
     "name": "stdout",
     "output_type": "stream",
     "text": [
      "P-value : 0.006548143503580696\n"
     ]
    }
   ],
   "source": [
    "c, p, dof, expected = stats.chi2_contingency(value)\n",
    "print('P-value :',p)"
   ]
  },
  {
   "cell_type": "code",
   "execution_count": 28,
   "id": "tkFElqDMTtr6",
   "metadata": {
    "colab": {
     "base_uri": "https://localhost:8080/"
    },
    "id": "tkFElqDMTtr6",
    "outputId": "46bc8424-d367-45c0-8656-efc1163a4df1"
   },
   "outputs": [
    {
     "name": "stdout",
     "output_type": "stream",
     "text": [
      "Reject NULL HYPOTHESIS\n"
     ]
    }
   ],
   "source": [
    "htResult(p)"
   ]
  },
  {
   "cell_type": "markdown",
   "id": "kTKkzb_NKjxM",
   "metadata": {
    "id": "kTKkzb_NKjxM"
   },
   "source": [
    "Reject Null Hypothesis yang artinya bahwa proporsi perokok laki-laki lebih besar dari perempuan"
   ]
  },
  {
   "cell_type": "markdown",
   "id": "9fb22921",
   "metadata": {
    "id": "9fb22921"
   },
   "source": [
    "### 3. Tagihan kesehatan laki-laki lebih besar dari perempuan\n",
    "Null Hypothesis ( H0 ) - Tagihan laki-laki sama dengan tagihan perempuan\n",
    "\n",
    "Alternate Hypothesis ( HA ) - Tagihan laki-laki lebih besar dari pada perempuan\n",
    "\n",
    "###Terdapat 3 langka untuk Menjawab pertanyaan ini\n",
    "- Langkah Pertama\\\n",
    "Mengecek asumsi dasar dari hypothesis\n",
    "\n",
    "- Langkah ke dua\\\n",
    "Melakukan uji-t arah kanan\n",
    "\n",
    "- Langkah ke tiga\\\n",
    "Mengecek hasil hypothesis"
   ]
  },
  {
   "cell_type": "code",
   "execution_count": 29,
   "id": "cf266583",
   "metadata": {
    "id": "cf266583"
   },
   "outputs": [],
   "source": [
    "from scipy.stats import levene\n",
    "male = data[data['sex']=='male']['charges']\n",
    "female = data[data['sex']=='female']['charges']\n",
    "stat,p = levene(male,female)"
   ]
  },
  {
   "cell_type": "code",
   "execution_count": 30,
   "id": "YdSqBGDKLer4",
   "metadata": {
    "colab": {
     "base_uri": "https://localhost:8080/"
    },
    "id": "YdSqBGDKLer4",
    "outputId": "c8fc33cf-f50e-400f-d7c8-abeabd138716"
   },
   "outputs": [
    {
     "name": "stdout",
     "output_type": "stream",
     "text": [
      "P-value : 0.0016808765833903443\n"
     ]
    }
   ],
   "source": [
    "print('P-value :',p)"
   ]
  },
  {
   "cell_type": "code",
   "execution_count": 31,
   "id": "2NxUsq7AU4mZ",
   "metadata": {
    "colab": {
     "base_uri": "https://localhost:8080/"
    },
    "id": "2NxUsq7AU4mZ",
    "outputId": "b16b184c-dcc5-4d75-be51-a356f9629147"
   },
   "outputs": [
    {
     "name": "stdout",
     "output_type": "stream",
     "text": [
      "Reject NULL HYPOTHESIS\n"
     ]
    }
   ],
   "source": [
    "htResult(p)"
   ]
  },
  {
   "cell_type": "markdown",
   "id": "SqcYAXA1U_sz",
   "metadata": {
    "id": "SqcYAXA1U_sz"
   },
   "source": [
    "hipotesis nol ditolak, yang berarti varian tidak sama.\n",
    "###Melakukan uji-t arah kanan"
   ]
  },
  {
   "cell_type": "code",
   "execution_count": 32,
   "id": "FupncXUkU8Eg",
   "metadata": {
    "colab": {
     "base_uri": "https://localhost:8080/"
    },
    "id": "FupncXUkU8Eg",
    "outputId": "92706a3f-d111-46e3-a015-ff43972cd01a"
   },
   "outputs": [
    {
     "name": "stdout",
     "output_type": "stream",
     "text": [
      "P-value : 0.01806636050296488\n"
     ]
    }
   ],
   "source": [
    "st,p = stats.ttest_ind(male,female)\n",
    "print('P-value :',(p/2))"
   ]
  },
  {
   "cell_type": "code",
   "execution_count": 33,
   "id": "trCN3TIaVM_d",
   "metadata": {
    "colab": {
     "base_uri": "https://localhost:8080/"
    },
    "id": "trCN3TIaVM_d",
    "outputId": "727f24d4-5902-4a84-9be3-c3653816ece8"
   },
   "outputs": [
    {
     "name": "stdout",
     "output_type": "stream",
     "text": [
      "Reject NULL HYPOTHESIS\n"
     ]
    }
   ],
   "source": [
    "htResult(p/2)"
   ]
  },
  {
   "cell_type": "markdown",
   "id": "Y2U1BYa1V1RN",
   "metadata": {
    "id": "Y2U1BYa1V1RN"
   },
   "source": [
    "Gagal untuk menolak Null Hypothesis yang artinya tagihan laki-laki sama dengan tagihan perempuan tidak ada perbedaan"
   ]
  }
 ],
 "metadata": {
  "colab": {
   "provenance": []
  },
  "kernelspec": {
   "display_name": "Python 3 (ipykernel)",
   "language": "python",
   "name": "python3"
  },
  "language_info": {
   "codemirror_mode": {
    "name": "ipython",
    "version": 3
   },
   "file_extension": ".py",
   "mimetype": "text/x-python",
   "name": "python",
   "nbconvert_exporter": "python",
   "pygments_lexer": "ipython3",
   "version": "3.9.12"
  }
 },
 "nbformat": 4,
 "nbformat_minor": 5
}
